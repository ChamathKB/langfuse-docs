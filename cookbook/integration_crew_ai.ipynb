{
 "cells": [
  {
   "cell_type": "markdown",
   "id": "27543dcb-8057-4e1c-840f-088ff050d348",
   "metadata": {},
   "source": [
    "---\n",
    "description: Cookbook with examples of the Langfuse Integration for crewAI.\n",
    "category: Integrations\n",
    "---"
   ]
  },
  {
   "cell_type": "markdown",
   "id": "138ab723-ffcc-4737-a975-35f2ff5c5647",
   "metadata": {},
   "source": [
    "# Cookbook: crewAI Integration\n",
    "\n",
    "This is a cookbook with examples of the Langfuse Integration for crewAI.\n",
    "\n",
    "_Note: crewAI is compatible with Python >=3.10, <=3.13._"
   ]
  },
  {
   "cell_type": "markdown",
   "id": "612c578f-6fb0-4bd6-be5b-c9d8a2cbe92b",
   "metadata": {},
   "source": [
    "## Setup"
   ]
  },
  {
   "cell_type": "code",
   "execution_count": null,
   "id": "95f85c1c-38cf-4219-8a0e-7da10718db8a",
   "metadata": {},
   "outputs": [],
   "source": [
    "!pip install crewai langfuse"
   ]
  },
  {
   "cell_type": "markdown",
   "id": "70454872-cf6f-4d61-b9ad-e469dc025dfb",
   "metadata": {},
   "source": [
    "Initialize the Langfuse client with your API keys from the project settings in the Langfuse UI and add them to your environment."
   ]
  },
  {
   "cell_type": "code",
   "execution_count": null,
   "id": "2d051611-708d-4ebf-b82a-bc825cf8fbf3",
   "metadata": {},
   "outputs": [],
   "source": [
    "import os\n",
    "\n",
    "os.environ[\"LANGFUSE_PUBLIC_KEY\"] = \"\"\n",
    "os.environ[\"LANGFUSE_SECRET_KEY\"] = \"\"\n",
    "os.environ[\"LANGFUSE_HOST\"] = \"https://cloud.langfuse.com\" # for EU data region\n",
    "# os.environ[\"LANGFUSE_HOST\"] = \"https://us.cloud.langfuse.com\" # for US data region\n",
    "\n",
    "os.environ[\"OPENAI_API_KEY\"] = \"\""
   ]
  },
  {
   "cell_type": "code",
   "execution_count": null,
   "id": "fce7010b-6208-4e2f-80f8-55a8919bfe92",
   "metadata": {},
   "outputs": [],
   "source": [
    "from langfuse.openai import auth_check\n",
    "\n",
    "# Tests the SDK connection with the server\n",
    "auth_check()"
   ]
  },
  {
   "cell_type": "markdown",
   "id": "af27daeb-9db3-4f46-a509-21d1586652db",
   "metadata": {},
   "source": [
    "## Create Custom Tool\n",
    "\n",
    "For more information on how to create custom tools for the crewAI framework, please visit the [crewAI docs](https://docs.crewai.com/how-to/Create-Custom-Tools)."
   ]
  },
  {
   "cell_type": "code",
   "execution_count": null,
   "id": "0cba0035-abdb-4428-80ea-d023df4436c3",
   "metadata": {},
   "outputs": [],
   "source": [
    "from crewai_tools import tool\n",
    "\n",
    "@tool\n",
    "def multiplication_tool(first_number: int, second_number: int) -> str:\n",
    "    \"\"\"Useful for when you need to multiply two numbers together.\"\"\"\n",
    "    return first_number * second_number"
   ]
  },
  {
   "cell_type": "markdown",
   "id": "5e75d4ae-96be-46db-93c1-0d4940e25949",
   "metadata": {},
   "source": [
    "## Assemble Crew"
   ]
  },
  {
   "cell_type": "code",
   "execution_count": null,
   "id": "2d094b88-7d58-44c3-8679-41f90e70d8ad",
   "metadata": {},
   "outputs": [],
   "source": [
    "from crewai import Agent, Task, Process, Crew\n",
    "\n",
    "writer = Agent(\n",
    "        role=\"Writer\",\n",
    "        goal=\"You write lesssons of math for kids.\",\n",
    "        backstory=\"You're an expert in writing haikus but you know nothing of math.\",\n",
    "        tools=[multiplication_tool],\n",
    "    )\n",
    "\n",
    "task = Task(description=(\"What is {multiplication}?\"), expected_output=(\"Write a haiku containing the solution\"), agent=writer)\n",
    "\n",
    "crew = Crew(\n",
    "  agents=[writer],\n",
    "  tasks=[task],\n",
    "  share_crew=True\n",
    ")\n"
   ]
  },
  {
   "cell_type": "markdown",
   "id": "00d8bf44-1398-4f28-bcda-c51d3acc08e4",
   "metadata": {},
   "source": [
    "## Examples\n",
    "\n",
    "### Simple Example using observer() decorator\n",
    "\n",
    "You can use this integration in combination with the `observe()` decorator from the Langfuse Python SDK. Thereby, you can trace non-Langchain code, combine multiple Langchain invocations in a single trace, and use the full functionality of the Langfuse Python SDK.\n",
    "\n",
    "Learn more about Langfuse Tracing [here](https://langfuse.com/docs/tracing) and this functionality [here](https://langfuse.com/docs/sdk/python/decorators)."
   ]
  },
  {
   "cell_type": "code",
   "execution_count": null,
   "id": "55ea39cf-6c3d-4482-ac08-8ed19b2de587",
   "metadata": {},
   "outputs": [],
   "source": [
    "from langfuse.decorators import observe, langfuse_context\n",
    "\n",
    "@observe()\n",
    "def create_haiku_simple(input):\n",
    "    result = crew.kickoff(inputs={\"multiplication\": input})\n",
    "    print(result)\n",
    "\n",
    "create_haiku_simple(\"1 * 3\")"
   ]
  },
  {
   "cell_type": "markdown",
   "id": "ef43f4c8-9be1-44ea-a874-4e8676a7be33",
   "metadata": {},
   "source": [
    "### Example using observer() decorator with custom tracing"
   ]
  },
  {
   "cell_type": "code",
   "execution_count": null,
   "id": "68b9f0de-ada2-4b72-a9a1-6a4472d8ead9",
   "metadata": {},
   "outputs": [],
   "source": [
    "from langfuse.decorators import langfuse_context\n",
    "\n",
    "@observe()\n",
    "def create_haiku_rich(input):\n",
    "    result = crew.kickoff(inputs={\"multiplication\": input})\n",
    "    langfuse_context.update_current_observation(\n",
    "        name=\"Crew AI Trace\",\n",
    "        session_id=\"session_id\",\n",
    "        user_id=\"user_id\",\n",
    "        tags=[\"crew_ai\", \"haiku\"],\n",
    "        output=result,\n",
    "    )\n",
    "    print(result)\n",
    "\n",
    "create_haiku_rich(\"5 * 3\")"
   ]
  },
  {
   "cell_type": "markdown",
   "id": "16897545-64d4-426a-ae3a-3ce884b9dc4e",
   "metadata": {},
   "source": [
    "### Example using CallbackHandler()"
   ]
  },
  {
   "cell_type": "code",
   "execution_count": null,
   "id": "15759e0a-41f0-4304-993b-646f138d1cac",
   "metadata": {},
   "outputs": [],
   "source": [
    "from langchain_openai import ChatOpenAI\n",
    "from langfuse.callback import CallbackHandler\n",
    "from langfuse import Langfuse\n",
    "\n",
    "langfuse_handler = CallbackHandler()\n",
    "\n",
    "crew_with_langfuse = Crew(\n",
    "  agents=[writer],\n",
    "  tasks=[task],\n",
    "  manager_callbacks=[langfuse_handler],\n",
    ")\n",
    "res = crew_with_langfuse.kickoff(inputs={\"multiplication\": \"3 * 3\"})\n",
    "print(res)"
   ]
  }
 ],
 "metadata": {
  "kernelspec": {
   "display_name": "Python 3 (ipykernel)",
   "language": "python",
   "name": "python3"
  },
  "language_info": {
   "codemirror_mode": {
    "name": "ipython",
    "version": 3
   },
   "file_extension": ".py",
   "mimetype": "text/x-python",
   "name": "python",
   "nbconvert_exporter": "python",
   "pygments_lexer": "ipython3",
   "version": "3.12.2"
  }
 },
 "nbformat": 4,
 "nbformat_minor": 5
}
