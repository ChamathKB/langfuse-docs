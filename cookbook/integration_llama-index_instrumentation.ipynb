{
  "cells": [
    {
      "cell_type": "markdown",
      "metadata": {
        "id": "tXvsQZYL03aE"
      },
      "source": [
        "---\n",
        "description: Example cookbook for the experimental LlamaIndex Langfuse integration using the instrumentation module of LlamaIndex.\n",
        "category: Integrations\n",
        "---\n",
        "\n",
        "# Cookbook LlamaIndex Integration (Instrumentation Module)\n",
        "\n",
        "This is a simple cookbook that demonstrates how to use the [LlamaIndex Langfuse integration](https://langfuse.com/docs/integrations/llama-index/get-started) using the [instrumentation module](https://docs.llamaindex.ai/en/stable/module_guides/observability/instrumentation/) by LlamaIndex (available in llama-index v0.10.20 and later).\n",
        "\n",
        "**Note: This integration is in beta.** Please report any issues or feedback via [GitHub](/issues)."
      ]
    },
    {
      "cell_type": "markdown",
      "metadata": {},
      "source": [
        "## Setup\n",
        "\n",
        "Make sure you have both `llama-index` and `langfuse` installed."
      ]
    },
    {
      "cell_type": "code",
      "execution_count": null,
      "metadata": {
        "id": "fhOqgxXv0-aL"
      },
      "outputs": [],
      "source": [
        "%pip install langfuse llama_index --upgrade"
      ]
    },
    {
      "cell_type": "markdown",
      "metadata": {},
      "source": [
        "Initialize the integration. Get your API keys from the Langfuse project settings. This example uses OpenAI for embeddings and chat completions. You can also use any other model supported by LlamaIndex."
      ]
    },
    {
      "cell_type": "code",
      "execution_count": 2,
      "metadata": {
        "id": "wFliXlaT1DlW"
      },
      "outputs": [],
      "source": [
        "import os\n",
        "\n",
        "# Get keys for your project from the project settings page\n",
        "# https://cloud.langfuse.com\n",
        "os.environ[\"LANGFUSE_PUBLIC_KEY\"] = \"\"\n",
        "os.environ[\"LANGFUSE_SECRET_KEY\"] = \"\"\n",
        "os.environ[\"LANGFUSE_HOST\"] = \"https://cloud.langfuse.com\" # 🇪🇺 EU region\n",
        "# os.environ[\"LANGFUSE_HOST\"] = \"https://us.cloud.langfuse.com\" # 🇺🇸 US region\n",
        "\n",
        "# Your openai key\n",
        "os.environ[\"OPENAI_API_KEY\"] = \"\""
      ]
    },
    {
      "cell_type": "markdown",
      "metadata": {},
      "source": [
        "Add `LlamaIndexSpanHandler` via the instrumentation module of LlamaIndex:"
      ]
    },
    {
      "cell_type": "code",
      "execution_count": 3,
      "metadata": {
        "id": "tc_Si9Rs01zc"
      },
      "outputs": [],
      "source": [
        "import llama_index.core.instrumentation as instrument\n",
        "from langfuse.llama_index import LlamaIndexSpanHandler\n",
        "\n",
        "langfuse_span_handler = LlamaIndexSpanHandler()\n",
        "instrument.get_dispatcher().add_span_handler(langfuse_span_handler)"
      ]
    },
    {
      "cell_type": "markdown",
      "metadata": {
        "id": "x7w2hVGQ13zK"
      },
      "source": [
        "## Index"
      ]
    },
    {
      "cell_type": "code",
      "execution_count": 4,
      "metadata": {
        "id": "qydmtcE91zDM"
      },
      "outputs": [],
      "source": [
        "# Example context, thx ChatGPT\n",
        "from llama_index.core import Document\n",
        "\n",
        "doc1 = Document(text=\"\"\"\n",
        "Maxwell \"Max\" Silverstein, a lauded movie director, screenwriter, and producer, was born on October 25, 1978, in Boston, Massachusetts. A film enthusiast from a young age, his journey began with home movies shot on a Super 8 camera. His passion led him to the University of Southern California (USC), majoring in Film Production. Eventually, he started his career as an assistant director at Paramount Pictures. Silverstein's directorial debut, “Doors Unseen,” a psychological thriller, earned him recognition at the Sundance Film Festival and marked the beginning of a successful directing career.\n",
        "\"\"\")\n",
        "doc2 = Document(text=\"\"\"\n",
        "Throughout his career, Silverstein has been celebrated for his diverse range of filmography and unique narrative technique. He masterfully blends suspense, human emotion, and subtle humor in his storylines. Among his notable works are \"Fleeting Echoes,\" \"Halcyon Dusk,\" and the Academy Award-winning sci-fi epic, \"Event Horizon's Brink.\" His contribution to cinema revolves around examining human nature, the complexity of relationships, and probing reality and perception. Off-camera, he is a dedicated philanthropist living in Los Angeles with his wife and two children.\n",
        "\"\"\")"
      ]
    },
    {
      "cell_type": "code",
      "execution_count": 5,
      "metadata": {
        "id": "OykJH7_416Iy"
      },
      "outputs": [],
      "source": [
        "# Example index construction + LLM query\n",
        "from llama_index.core import VectorStoreIndex\n",
        "\n",
        "index = VectorStoreIndex.from_documents([doc1,doc2])"
      ]
    },
    {
      "cell_type": "markdown",
      "metadata": {
        "id": "h62UxCTY179q"
      },
      "source": [
        "## Query"
      ]
    },
    {
      "cell_type": "code",
      "execution_count": 9,
      "metadata": {
        "colab": {
          "base_uri": "https://localhost:8080/"
        },
        "id": "L79u8D8K16jC",
        "outputId": "0016cd35-82aa-4e24-e8ee-b7919356c68c"
      },
      "outputs": [
        {
          "name": "stdout",
          "output_type": "stream",
          "text": [
            "He made home movies using a Super 8 camera.\n"
          ]
        }
      ],
      "source": [
        "# Query\n",
        "response = index.as_query_engine().query(\"What did he do growing up?\")\n",
        "print(response)"
      ]
    },
    {
      "cell_type": "markdown",
      "metadata": {
        "id": "1KxscR7-2NFn"
      },
      "source": [
        "Example trace: https://cloud.langfuse.com/project/cloramnkj0002jz088vzn1ja4/traces/5c6f2b7f-4ae5-41da-b320-24b493532657"
      ]
    },
    {
      "cell_type": "code",
      "execution_count": 10,
      "metadata": {
        "colab": {
          "base_uri": "https://localhost:8080/"
        },
        "id": "DRVa80vs19tB",
        "outputId": "d52dee9e-6876-4152-8518-e2177c322e4c"
      },
      "outputs": [
        {
          "name": "stdout",
          "output_type": "stream",
          "text": [
            "He made home movies using a Super 8 camera growing up.\n"
          ]
        }
      ],
      "source": [
        "# Chat\n",
        "response = index.as_chat_engine().chat(\"What did he do growing up?\")\n",
        "print(response)"
      ]
    },
    {
      "cell_type": "markdown",
      "metadata": {
        "id": "z5Imz4gX2S5y"
      },
      "source": [
        "Example trace: https://cloud.langfuse.com/project/cloramnkj0002jz088vzn1ja4/traces/f63aa1f7-8110-4a18-815c-c02d7131b984\n",
        "\n",
        "![LlamaIndex Chat Engine Trace in Langfuse (via instrumentation module)](https://langfuse.com/images/cookbook/integration_llama-index_instrumentation_chatengine_trace.png)"
      ]
    }
  ],
  "metadata": {
    "colab": {
      "provenance": []
    },
    "kernelspec": {
      "display_name": "Python 3",
      "name": "python3"
    },
    "language_info": {
      "name": "python"
    }
  },
  "nbformat": 4,
  "nbformat_minor": 0
}
